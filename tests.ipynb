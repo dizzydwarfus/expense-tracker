{
 "cells": [
  {
   "cell_type": "code",
   "execution_count": null,
   "metadata": {},
   "outputs": [],
   "source": [
    "# Built-in Libraries\n",
    "import os\n",
    "import datetime as dt\n",
    "from typing import Union\n",
    "\n",
    "# Third-party Libraries\n",
    "from dotenv import load_dotenv\n",
    "\n",
    "# Internal Imports\n",
    "from mongoapp.models.users import User\n",
    "from mongoapp.models.transactions import Transaction\n",
    "from mongoapp.utils.mongodb_connector import MongoConnector, ExpenseTrackerWebAppDB\n",
    "from mongoapp.utils._password_utils import check_password\n",
    "\n",
    "load_dotenv()"
   ]
  },
  {
   "cell_type": "code",
   "execution_count": null,
   "metadata": {},
   "outputs": [],
   "source": [
    "expenses_db = ExpenseTrackerWebAppDB(os.getenv('mongodb'))\n",
    "expenses_db.test_connection()"
   ]
  },
  {
   "cell_type": "markdown",
   "metadata": {},
   "source": [
    "# Insert/Update User"
   ]
  },
  {
   "cell_type": "code",
   "execution_count": null,
   "metadata": {},
   "outputs": [],
   "source": [
    "username_first = 'dizzydwarfus'\n",
    "name_first = 'Lian'\n",
    "email_first = 'liantest@gmail.com'\n",
    "password_first = 'liantest'\n",
    "username_second = 'mollysaez'\n",
    "name_second = 'Molly'\n",
    "email_second = 'mollytest@gmail.com'\n",
    "password_second = 'mollytest'\n",
    "\n",
    "expenses_db.upsert_user(username_first, name_first, email_first, password_first)\n",
    "expenses_db.upsert_user(username_second, name_second, email_second, password_second)\n",
    "print(check_password(expenses_db.users.find_one({'_id': username_first})['password'], password_first))\n",
    "print(check_password(expenses_db.users.find_one({'_id': username_second})['password'], password_second))\n"
   ]
  },
  {
   "cell_type": "code",
   "execution_count": null,
   "metadata": {},
   "outputs": [],
   "source": [
    "expenses_db.users.find_one({'_id': username_first}),expenses_db.users.find_one({'_id': username_second})"
   ]
  },
  {
   "cell_type": "markdown",
   "metadata": {},
   "source": [
    "# Upsert Transactions"
   ]
  },
  {
   "cell_type": "code",
   "execution_count": 14,
   "metadata": {},
   "outputs": [
    {
     "data": {
      "text/plain": [
       "'20231231dizzydwarfus100.00testgroup'"
      ]
     },
     "execution_count": 14,
     "metadata": {},
     "output_type": "execute_result"
    }
   ],
   "source": [
    "from mongoapp.models.transactions import Transaction\n",
    "import datetime as dt\n",
    "\n",
    "\n",
    "transaction_date = '2023-12-31'\n",
    "transaction_type = 'expense'\n",
    "description = 'test transaction - expense'\n",
    "group = 'testgroup'\n",
    "paidBy = 'dizzydwarfus'\n",
    "amount = 100\n",
    "currency = 'EUR'\n",
    "split = {\n",
    "    'dizzydwarfus': 70,\n",
    "    'mollysaez': 30\n",
    "}\n",
    "\n",
    "parsed_date = expenses_db.parse_date(transaction_date)\n",
    "\n",
    "transaction_id = f'{dt.datetime.strftime(parsed_date, '%Y-%m-%d').replace('-','')}{paidBy}{amount:.2f}{group}'\n",
    "transaction_id"
   ]
  },
  {
   "cell_type": "code",
   "execution_count": 18,
   "metadata": {},
   "outputs": [
    {
     "name": "stdout",
     "output_type": "stream",
     "text": [
      "20231231dizzydwarfus100.00testgroup\n"
     ]
    },
    {
     "data": {
      "text/plain": [
       "Transaction(transactionDate=datetime.datetime(2023, 12, 31, 0, 0), transactionType='expense', description='test transaction - expense', group='testgroup', paidBy='dizzydwarfus', amount=100.0, currency='EUR', split={'dizzydwarfus': 70.0, 'mollysaez': 30.0}, transactionId='20231231dizzydwarfus100.00testgroup')"
      ]
     },
     "execution_count": 18,
     "metadata": {},
     "output_type": "execute_result"
    }
   ],
   "source": [
    "Transaction(\n",
    "    transactionDate=expenses_db.parse_date(transaction_date),\n",
    "    transactionType=transaction_type,\n",
    "    description=description,\n",
    "    group=group,\n",
    "    paidBy=paidBy,\n",
    "    amount=amount,\n",
    "    currency=currency,\n",
    "    split=split,\n",
    "    transactionId=transaction_id,\n",
    ")"
   ]
  },
  {
   "cell_type": "code",
   "execution_count": 16,
   "metadata": {},
   "outputs": [
    {
     "name": "stdout",
     "output_type": "stream",
     "text": [
      "20231231dizzydwarfus100.00testgroup\n"
     ]
    },
    {
     "data": {
      "text/plain": [
       "True"
      ]
     },
     "execution_count": 16,
     "metadata": {},
     "output_type": "execute_result"
    }
   ],
   "source": [
    "expenses_db.upsert_transaction(\\\n",
    "    transaction_date=transaction_date,\n",
    "    transaction_type=transaction_type,\n",
    "    description=description,\n",
    "    group=group,\n",
    "    paidBy=paidBy,\n",
    "    amount=amount,\n",
    "    currency=currency,\n",
    "    split=split\n",
    "    )"
   ]
  },
  {
   "cell_type": "markdown",
   "metadata": {},
   "source": [
    "# Find Transactions"
   ]
  },
  {
   "cell_type": "code",
   "execution_count": 17,
   "metadata": {},
   "outputs": [
    {
     "data": {
      "text/plain": [
       "{'_id': '20231231dizzydwarfus100.00testgroup',\n",
       " 'amount': 100.0,\n",
       " 'createdDate': datetime.datetime(2024, 1, 28, 16, 1, 3, 341000),\n",
       " 'currency': 'EUR',\n",
       " 'description': 'test transaction - expense',\n",
       " 'group': 'testgroup',\n",
       " 'paidBy': 'dizzydwarfus',\n",
       " 'split': {'dizzydwarfus': 70.0, 'mollysaez': 30.0},\n",
       " 'transactionDate': datetime.datetime(2023, 12, 31, 0, 0),\n",
       " 'transactionId': '20231231dizzydwarfus100.00testgroup',\n",
       " 'transactionType': 'expense',\n",
       " 'updatedDate': datetime.datetime(2024, 1, 28, 16, 11, 47, 870000)}"
      ]
     },
     "execution_count": 17,
     "metadata": {},
     "output_type": "execute_result"
    }
   ],
   "source": [
    "expenses_db.transactions.find_one({'transactionDate': {'$gt': dt.datetime(2021,1,1)}})\n"
   ]
  },
  {
   "cell_type": "code",
   "execution_count": null,
   "metadata": {},
   "outputs": [],
   "source": []
  }
 ],
 "metadata": {
  "kernelspec": {
   "display_name": "expenses_tracker",
   "language": "python",
   "name": "python3"
  },
  "language_info": {
   "codemirror_mode": {
    "name": "ipython",
    "version": 3
   },
   "file_extension": ".py",
   "mimetype": "text/x-python",
   "name": "python",
   "nbconvert_exporter": "python",
   "pygments_lexer": "ipython3",
   "version": "3.12.0"
  },
  "orig_nbformat": 4
 },
 "nbformat": 4,
 "nbformat_minor": 2
}
